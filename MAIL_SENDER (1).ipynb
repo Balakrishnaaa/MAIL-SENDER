{
  "nbformat": 4,
  "nbformat_minor": 0,
  "metadata": {
    "colab": {
      "provenance": []
    },
    "kernelspec": {
      "name": "python3",
      "display_name": "Python 3"
    },
    "language_info": {
      "name": "python"
    }
  },
  "cells": [
    {
      "cell_type": "code",
      "execution_count": 11,
      "metadata": {
        "colab": {
          "base_uri": "https://localhost:8080/"
        },
        "id": "uhcytAPVfD5f",
        "outputId": "0a6f6106-8945-4c7d-d4e6-cdd625f5c217"
      },
      "outputs": [
        {
          "output_type": "stream",
          "name": "stdout",
          "text": [
            "Email sent successfully to qw37656@umbc.edu\n"
          ]
        }
      ],
      "source": [
        "import smtplib\n",
        "from email.mime.text import MIMEText\n",
        "from email.mime.multipart import MIMEMultipart\n",
        "from email.mime.base import MIMEBase\n",
        "from email import encoders\n",
        "\n",
        "def send_welcome_email(new_hire_email, new_hire_name, file_path):\n",
        "    # Email account credentials\n",
        "    sender_email = \"\"  # Replace with your Gmail address\n",
        "    sender_password = \"\"  # Replace with your Gmail app password\n",
        "    smtp_server = \"smtp.gmail.com\"  # Correct SMTP server for Gmail\n",
        "    smtp_port = 587  # Port for TLS\n",
        "\n",
        "    # Creating the email content\n",
        "    subject = \"Welcome to the Team! Register Your Bitrix Account\"\n",
        "    body = f\"\"\"\n",
        "    Hi {new_hire_name},\n",
        "\n",
        "    Congratulations on joining our team! We are excited to have you onboard.\n",
        "\n",
        "    To get started, please register your Bitrix account using the link below:\n",
        "    [Bitrix Registration Link]\n",
        "\n",
        "    Once registered, you can access company resources and communicate with your team effectively.\n",
        "\n",
        "    If you face any issues, feel free to reach out.\n",
        "\n",
        "    Best regards,\n",
        "    [Your Name]\n",
        "    [Your Position]\n",
        "    \"\"\"\n",
        "\n",
        "    # Construct the email\n",
        "    message = MIMEMultipart()\n",
        "    message[\"From\"] = sender_email\n",
        "    message[\"To\"] = new_hire_email\n",
        "    message[\"Subject\"] = subject\n",
        "    message.attach(MIMEText(body, \"plain\"))\n",
        "\n",
        "    # Add attachment (Document)\n",
        "    try:\n",
        "        with open(file_path, \"rb\") as attachment:\n",
        "            part = MIMEBase(\"application\", \"octet-stream\")\n",
        "            part.set_payload(attachment.read())\n",
        "            encoders.encode_base64(part)  # Encode the attachment in base64\n",
        "            part.add_header(\"Content-Disposition\", f\"attachment; filename={file_path.split('/')[-1]}\")  # Attach file\n",
        "            message.attach(part)\n",
        "    except FileNotFoundError:\n",
        "        print(f\"Error: The file at {file_path} was not found.\")\n",
        "        return\n",
        "    except Exception as e:\n",
        "        print(f\"Failed to attach file: {e}\")\n",
        "        return\n",
        "\n",
        "    # Try sending the email\n",
        "    try:\n",
        "        with smtplib.SMTP(smtp_server, smtp_port) as server:\n",
        "            server.starttls()  # Upgrade the connection to a secure encrypted SSL/TLS connection\n",
        "            server.login(sender_email, sender_password)  # Login to the SMTP server\n",
        "            server.sendmail(sender_email, new_hire_email, message.as_string())  # Send the email\n",
        "        print(f\"Email sent successfully to {new_hire_email}\")\n",
        "    except smtplib.SMTPException as e:\n",
        "        print(f\"Failed to send email: {e}\")\n",
        "\n",
        "# Example usage\n",
        "new_hire_email = \"\"  # Replace with the new hire's email\n",
        "new_hire_name = \"By\"  # Replace with the new hire's name\n",
        "file_path = \"/content/registeration steps.pdf\"  # Replace with the path to the file you want to attach\n",
        "send_welcome_email(new_hire_email, new_hire_name, file_path)"
      ]
    },
    {
      "cell_type": "code",
      "source": [],
      "metadata": {
        "id": "dvazGSWfnRSg"
      },
      "execution_count": null,
      "outputs": []
    }
  ]
}